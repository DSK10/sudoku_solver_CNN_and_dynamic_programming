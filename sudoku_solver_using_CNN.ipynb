{
  "cells": [
    {
      "cell_type": "code",
      "execution_count": 49,
      "metadata": {
        "id": "yaaS_Hda57Nc"
      },
      "outputs": [],
      "source": [
        "import pandas as pd\n",
        "import numpy as np\n",
        "import tensorflow as tf\n",
        "from tensorflow.keras.models import Sequential\n",
        "from tensorflow.keras.layers import Conv2D, Flatten, Dense, MaxPooling2D, Dropout, Reshape, Activation, BatchNormalization"
      ]
    },
    {
      "cell_type": "code",
      "source": [
        "from google.colab import drive\n",
        "drive.mount('/content/drive')"
      ],
      "metadata": {
        "colab": {
          "base_uri": "https://localhost:8080/"
        },
        "id": "NJzZehoz5deA",
        "outputId": "b85c79f8-1943-469b-a756-c29a49ab3d85"
      },
      "execution_count": 2,
      "outputs": [
        {
          "output_type": "stream",
          "name": "stdout",
          "text": [
            "Drive already mounted at /content/drive; to attempt to forcibly remount, call drive.mount(\"/content/drive\", force_remount=True).\n"
          ]
        }
      ]
    },
    {
      "cell_type": "code",
      "execution_count": 3,
      "metadata": {
        "colab": {
          "base_uri": "https://localhost:8080/",
          "height": 204
        },
        "id": "ecsU-4L3XeY1",
        "outputId": "c8eacdbf-9810-4c00-e15d-27dfc7dea20b"
      },
      "outputs": [
        {
          "output_type": "execute_result",
          "data": {
            "text/html": [
              "\n",
              "  <div id=\"df-ddbaaa1b-3541-4404-9f72-2f0d4136c573\">\n",
              "    <div class=\"colab-df-container\">\n",
              "      <div>\n",
              "<style scoped>\n",
              "    .dataframe tbody tr th:only-of-type {\n",
              "        vertical-align: middle;\n",
              "    }\n",
              "\n",
              "    .dataframe tbody tr th {\n",
              "        vertical-align: top;\n",
              "    }\n",
              "\n",
              "    .dataframe thead th {\n",
              "        text-align: right;\n",
              "    }\n",
              "</style>\n",
              "<table border=\"1\" class=\"dataframe\">\n",
              "  <thead>\n",
              "    <tr style=\"text-align: right;\">\n",
              "      <th></th>\n",
              "      <th>quizzes</th>\n",
              "      <th>solutions</th>\n",
              "    </tr>\n",
              "  </thead>\n",
              "  <tbody>\n",
              "    <tr>\n",
              "      <th>0</th>\n",
              "      <td>0043002090050090010700600430060020871900074000...</td>\n",
              "      <td>8643712593258497619712658434361925871986574322...</td>\n",
              "    </tr>\n",
              "    <tr>\n",
              "      <th>1</th>\n",
              "      <td>0401000501070039605200080000000000170009068008...</td>\n",
              "      <td>3461792581875239645296483719658324174729168358...</td>\n",
              "    </tr>\n",
              "    <tr>\n",
              "      <th>2</th>\n",
              "      <td>6001203840084590720000060050002640300700800069...</td>\n",
              "      <td>6951273841384596727248369158512647392739815469...</td>\n",
              "    </tr>\n",
              "    <tr>\n",
              "      <th>3</th>\n",
              "      <td>4972000001004000050000160986203000403009000000...</td>\n",
              "      <td>4972583161864397252537164986293815473759641828...</td>\n",
              "    </tr>\n",
              "    <tr>\n",
              "      <th>4</th>\n",
              "      <td>0059103080094030600275001000300002010008200070...</td>\n",
              "      <td>4659123781894735623275681497386452919548216372...</td>\n",
              "    </tr>\n",
              "  </tbody>\n",
              "</table>\n",
              "</div>\n",
              "      <button class=\"colab-df-convert\" onclick=\"convertToInteractive('df-ddbaaa1b-3541-4404-9f72-2f0d4136c573')\"\n",
              "              title=\"Convert this dataframe to an interactive table.\"\n",
              "              style=\"display:none;\">\n",
              "        \n",
              "  <svg xmlns=\"http://www.w3.org/2000/svg\" height=\"24px\"viewBox=\"0 0 24 24\"\n",
              "       width=\"24px\">\n",
              "    <path d=\"M0 0h24v24H0V0z\" fill=\"none\"/>\n",
              "    <path d=\"M18.56 5.44l.94 2.06.94-2.06 2.06-.94-2.06-.94-.94-2.06-.94 2.06-2.06.94zm-11 1L8.5 8.5l.94-2.06 2.06-.94-2.06-.94L8.5 2.5l-.94 2.06-2.06.94zm10 10l.94 2.06.94-2.06 2.06-.94-2.06-.94-.94-2.06-.94 2.06-2.06.94z\"/><path d=\"M17.41 7.96l-1.37-1.37c-.4-.4-.92-.59-1.43-.59-.52 0-1.04.2-1.43.59L10.3 9.45l-7.72 7.72c-.78.78-.78 2.05 0 2.83L4 21.41c.39.39.9.59 1.41.59.51 0 1.02-.2 1.41-.59l7.78-7.78 2.81-2.81c.8-.78.8-2.07 0-2.86zM5.41 20L4 18.59l7.72-7.72 1.47 1.35L5.41 20z\"/>\n",
              "  </svg>\n",
              "      </button>\n",
              "      \n",
              "  <style>\n",
              "    .colab-df-container {\n",
              "      display:flex;\n",
              "      flex-wrap:wrap;\n",
              "      gap: 12px;\n",
              "    }\n",
              "\n",
              "    .colab-df-convert {\n",
              "      background-color: #E8F0FE;\n",
              "      border: none;\n",
              "      border-radius: 50%;\n",
              "      cursor: pointer;\n",
              "      display: none;\n",
              "      fill: #1967D2;\n",
              "      height: 32px;\n",
              "      padding: 0 0 0 0;\n",
              "      width: 32px;\n",
              "    }\n",
              "\n",
              "    .colab-df-convert:hover {\n",
              "      background-color: #E2EBFA;\n",
              "      box-shadow: 0px 1px 2px rgba(60, 64, 67, 0.3), 0px 1px 3px 1px rgba(60, 64, 67, 0.15);\n",
              "      fill: #174EA6;\n",
              "    }\n",
              "\n",
              "    [theme=dark] .colab-df-convert {\n",
              "      background-color: #3B4455;\n",
              "      fill: #D2E3FC;\n",
              "    }\n",
              "\n",
              "    [theme=dark] .colab-df-convert:hover {\n",
              "      background-color: #434B5C;\n",
              "      box-shadow: 0px 1px 3px 1px rgba(0, 0, 0, 0.15);\n",
              "      filter: drop-shadow(0px 1px 2px rgba(0, 0, 0, 0.3));\n",
              "      fill: #FFFFFF;\n",
              "    }\n",
              "  </style>\n",
              "\n",
              "      <script>\n",
              "        const buttonEl =\n",
              "          document.querySelector('#df-ddbaaa1b-3541-4404-9f72-2f0d4136c573 button.colab-df-convert');\n",
              "        buttonEl.style.display =\n",
              "          google.colab.kernel.accessAllowed ? 'block' : 'none';\n",
              "\n",
              "        async function convertToInteractive(key) {\n",
              "          const element = document.querySelector('#df-ddbaaa1b-3541-4404-9f72-2f0d4136c573');\n",
              "          const dataTable =\n",
              "            await google.colab.kernel.invokeFunction('convertToInteractive',\n",
              "                                                     [key], {});\n",
              "          if (!dataTable) return;\n",
              "\n",
              "          const docLinkHtml = 'Like what you see? Visit the ' +\n",
              "            '<a target=\"_blank\" href=https://colab.research.google.com/notebooks/data_table.ipynb>data table notebook</a>'\n",
              "            + ' to learn more about interactive tables.';\n",
              "          element.innerHTML = '';\n",
              "          dataTable['output_type'] = 'display_data';\n",
              "          await google.colab.output.renderOutput(dataTable, element);\n",
              "          const docLink = document.createElement('div');\n",
              "          docLink.innerHTML = docLinkHtml;\n",
              "          element.appendChild(docLink);\n",
              "        }\n",
              "      </script>\n",
              "    </div>\n",
              "  </div>\n",
              "  "
            ],
            "text/plain": [
              "                                             quizzes                                          solutions\n",
              "0  0043002090050090010700600430060020871900074000...  8643712593258497619712658434361925871986574322...\n",
              "1  0401000501070039605200080000000000170009068008...  3461792581875239645296483719658324174729168358...\n",
              "2  6001203840084590720000060050002640300700800069...  6951273841384596727248369158512647392739815469...\n",
              "3  4972000001004000050000160986203000403009000000...  4972583161864397252537164986293815473759641828...\n",
              "4  0059103080094030600275001000300002010008200070...  4659123781894735623275681497386452919548216372..."
            ]
          },
          "metadata": {},
          "execution_count": 3
        }
      ],
      "source": [
        "df = pd.read_csv('/content/drive/MyDrive/Datasets/sudoku.csv')\n",
        "df.head()"
      ]
    },
    {
      "cell_type": "code",
      "source": [
        "df['quizzes'].shape[0]"
      ],
      "metadata": {
        "colab": {
          "base_uri": "https://localhost:8080/"
        },
        "id": "EXWipLuP6L-a",
        "outputId": "b9f2217c-a355-453f-bd8e-1e008d55dcff"
      },
      "execution_count": 12,
      "outputs": [
        {
          "output_type": "execute_result",
          "data": {
            "text/plain": [
              "1000000"
            ]
          },
          "metadata": {},
          "execution_count": 12
        }
      ]
    },
    {
      "cell_type": "code",
      "execution_count": 47,
      "metadata": {
        "id": "gZpS9IpfXo3T"
      },
      "outputs": [],
      "source": [
        "def generate_matrix(string):\n",
        "    puzzle = np.array([list(x) for x in string],dtype='int').reshape(string.shape[0],9,9,1)\n",
        "    return puzzle\n",
        "def gen_sol_matrix(string):\n",
        "    puzzle = np.array([list(x) for x in string],dtype='int')\n",
        "    return puzzle\n",
        "def norm(a):\n",
        "    return (a/9)-.5\n",
        "def denorm(a):\n",
        "    return (a+.5)*9"
      ]
    },
    {
      "cell_type": "code",
      "execution_count": 48,
      "metadata": {
        "id": "nz05YiiOXo5z"
      },
      "outputs": [],
      "source": [
        "quiz_matrix = norm(generate_matrix(df['quizzes']))\n",
        "sol_matrix = gen_sol_matrix(df['solutions'])"
      ]
    },
    {
      "cell_type": "code",
      "source": [
        "np.array([x for x in df['quizzes'][0] ],dtype='int').reshape(3,3,3,3), \"----------------------------------\" ,sol_matrix[0].reshape(3,3,3,3)"
      ],
      "metadata": {
        "id": "SJ2Vy0Co56aw"
      },
      "execution_count": null,
      "outputs": []
    },
    {
      "cell_type": "code",
      "execution_count": 50,
      "metadata": {
        "colab": {
          "base_uri": "https://localhost:8080/"
        },
        "id": "ZqjtBcBbXo8P",
        "outputId": "fc5fc040-b597-457c-fb2e-40760548f891"
      },
      "outputs": [
        {
          "output_type": "stream",
          "name": "stdout",
          "text": [
            "Model: \"sequential_7\"\n",
            "_________________________________________________________________\n",
            " Layer (type)                Output Shape              Param #   \n",
            "=================================================================\n",
            " conv2d_6 (Conv2D)           (None, 9, 9, 64)          640       \n",
            "                                                                 \n",
            " batch_normalization_10 (Bat  (None, 9, 9, 64)         256       \n",
            " chNormalization)                                                \n",
            "                                                                 \n",
            " conv2d_7 (Conv2D)           (None, 9, 9, 64)          36928     \n",
            "                                                                 \n",
            " batch_normalization_11 (Bat  (None, 9, 9, 64)         256       \n",
            " chNormalization)                                                \n",
            "                                                                 \n",
            " conv2d_8 (Conv2D)           (None, 9, 9, 128)         8320      \n",
            "                                                                 \n",
            " max_pooling2d_3 (MaxPooling  (None, 4, 4, 128)        0         \n",
            " 2D)                                                             \n",
            "                                                                 \n",
            " flatten_3 (Flatten)         (None, 2048)              0         \n",
            "                                                                 \n",
            " dense_3 (Dense)             (None, 729)               1493721   \n",
            "                                                                 \n",
            " reshape_3 (Reshape)         (None, 81, 9)             0         \n",
            "                                                                 \n",
            " activation_3 (Activation)   (None, 81, 9)             0         \n",
            "                                                                 \n",
            "=================================================================\n",
            "Total params: 1,540,121\n",
            "Trainable params: 1,539,865\n",
            "Non-trainable params: 256\n",
            "_________________________________________________________________\n"
          ]
        }
      ],
      "source": [
        "model = Sequential()\n",
        "model.add(Conv2D(64, kernel_size=(3,3), activation='relu', padding='same', input_shape=(9,9,1)))\n",
        "model.add(BatchNormalization())\n",
        "model.add(Conv2D(64, kernel_size=(3,3), activation='relu', padding='same'))\n",
        "model.add(BatchNormalization())\n",
        "model.add(Conv2D(128, kernel_size=(1,1), activation='relu', padding='same'))\n",
        "\n",
        "model.add(MaxPooling2D())\n",
        "\n",
        "model.add(Flatten())\n",
        "\n",
        "model.add(Dense(81*9))\n",
        "model.add(Reshape((-1, 9)))\n",
        "model.add(Activation('softmax'))\n",
        "model.summary()"
      ]
    },
    {
      "cell_type": "code",
      "execution_count": 51,
      "metadata": {
        "id": "-r5ZLA2FXwAN"
      },
      "outputs": [],
      "source": [
        "model.compile(optimizer=\"adam\", loss= tf.keras.losses.SparseCategoricalCrossentropy(), metrics=[\"accuracy\"])"
      ]
    },
    {
      "cell_type": "code",
      "execution_count": 54,
      "metadata": {
        "colab": {
          "base_uri": "https://localhost:8080/"
        },
        "id": "ihVyymoIXx5h",
        "outputId": "92069324-8049-4878-ffc1-c43c99d13421"
      },
      "outputs": [
        {
          "output_type": "stream",
          "name": "stdout",
          "text": [
            "Epoch 1/50\n",
            "6250/6250 [==============================] - 34s 5ms/step - loss: 0.3393 - accuracy: 0.8427 - val_loss: 0.3528 - val_accuracy: 0.8346\n",
            "Epoch 2/50\n",
            "6250/6250 [==============================] - 34s 5ms/step - loss: 0.3393 - accuracy: 0.8428 - val_loss: 0.3528 - val_accuracy: 0.8347\n",
            "Epoch 3/50\n",
            "6250/6250 [==============================] - 34s 5ms/step - loss: 0.3392 - accuracy: 0.8428 - val_loss: 0.3527 - val_accuracy: 0.8346\n",
            "Epoch 4/50\n",
            "6250/6250 [==============================] - 34s 5ms/step - loss: 0.3391 - accuracy: 0.8429 - val_loss: 0.3524 - val_accuracy: 0.8348\n",
            "Epoch 5/50\n",
            "6250/6250 [==============================] - 33s 5ms/step - loss: 0.3391 - accuracy: 0.8429 - val_loss: 0.3535 - val_accuracy: 0.8344\n",
            "Epoch 6/50\n",
            "6250/6250 [==============================] - 34s 5ms/step - loss: 0.3390 - accuracy: 0.8429 - val_loss: 0.3536 - val_accuracy: 0.8343\n",
            "Epoch 7/50\n",
            "6250/6250 [==============================] - 34s 5ms/step - loss: 0.3389 - accuracy: 0.8430 - val_loss: 0.3526 - val_accuracy: 0.8347\n",
            "Epoch 8/50\n",
            "6250/6250 [==============================] - 34s 5ms/step - loss: 0.3389 - accuracy: 0.8430 - val_loss: 0.3521 - val_accuracy: 0.8349\n",
            "Epoch 9/50\n",
            "6250/6250 [==============================] - 34s 5ms/step - loss: 0.3388 - accuracy: 0.8431 - val_loss: 0.3525 - val_accuracy: 0.8348\n",
            "Epoch 10/50\n",
            "6250/6250 [==============================] - 34s 5ms/step - loss: 0.3388 - accuracy: 0.8430 - val_loss: 0.3534 - val_accuracy: 0.8343\n",
            "Epoch 11/50\n",
            "6250/6250 [==============================] - 33s 5ms/step - loss: 0.3387 - accuracy: 0.8431 - val_loss: 0.3518 - val_accuracy: 0.8351\n",
            "Epoch 12/50\n",
            "6250/6250 [==============================] - 34s 5ms/step - loss: 0.3386 - accuracy: 0.8432 - val_loss: 0.3518 - val_accuracy: 0.8352\n",
            "Epoch 13/50\n",
            "6250/6250 [==============================] - 34s 5ms/step - loss: 0.3386 - accuracy: 0.8432 - val_loss: 0.3524 - val_accuracy: 0.8349\n",
            "Epoch 14/50\n",
            "6250/6250 [==============================] - 33s 5ms/step - loss: 0.3385 - accuracy: 0.8432 - val_loss: 0.3521 - val_accuracy: 0.8349\n",
            "Epoch 15/50\n",
            "6250/6250 [==============================] - 32s 5ms/step - loss: 0.3385 - accuracy: 0.8433 - val_loss: 0.3526 - val_accuracy: 0.8348\n",
            "Epoch 16/50\n",
            "6250/6250 [==============================] - 32s 5ms/step - loss: 0.3384 - accuracy: 0.8433 - val_loss: 0.3523 - val_accuracy: 0.8350\n",
            "Epoch 17/50\n",
            "6250/6250 [==============================] - 33s 5ms/step - loss: 0.3384 - accuracy: 0.8433 - val_loss: 0.3522 - val_accuracy: 0.8350\n",
            "Epoch 18/50\n",
            "6250/6250 [==============================] - 32s 5ms/step - loss: 0.3383 - accuracy: 0.8433 - val_loss: 0.3520 - val_accuracy: 0.8350\n",
            "Epoch 19/50\n",
            "6250/6250 [==============================] - 33s 5ms/step - loss: 0.3382 - accuracy: 0.8434 - val_loss: 0.3520 - val_accuracy: 0.8350\n",
            "Epoch 20/50\n",
            "6250/6250 [==============================] - 33s 5ms/step - loss: 0.3382 - accuracy: 0.8434 - val_loss: 0.3531 - val_accuracy: 0.8345\n",
            "Epoch 21/50\n",
            "6250/6250 [==============================] - 32s 5ms/step - loss: 0.3381 - accuracy: 0.8434 - val_loss: 0.3516 - val_accuracy: 0.8353\n",
            "Epoch 22/50\n",
            "6250/6250 [==============================] - 33s 5ms/step - loss: 0.3381 - accuracy: 0.8435 - val_loss: 0.3518 - val_accuracy: 0.8352\n",
            "Epoch 23/50\n",
            "6250/6250 [==============================] - 32s 5ms/step - loss: 0.3380 - accuracy: 0.8435 - val_loss: 0.3521 - val_accuracy: 0.8349\n",
            "Epoch 24/50\n",
            "6250/6250 [==============================] - 33s 5ms/step - loss: 0.3380 - accuracy: 0.8435 - val_loss: 0.3515 - val_accuracy: 0.8353\n",
            "Epoch 25/50\n",
            "6250/6250 [==============================] - 34s 5ms/step - loss: 0.3379 - accuracy: 0.8436 - val_loss: 0.3518 - val_accuracy: 0.8351\n",
            "Epoch 26/50\n",
            "6250/6250 [==============================] - 32s 5ms/step - loss: 0.3379 - accuracy: 0.8436 - val_loss: 0.3529 - val_accuracy: 0.8346\n",
            "Epoch 27/50\n",
            "6250/6250 [==============================] - 32s 5ms/step - loss: 0.3378 - accuracy: 0.8436 - val_loss: 0.3514 - val_accuracy: 0.8353\n",
            "Epoch 28/50\n",
            "6250/6250 [==============================] - 32s 5ms/step - loss: 0.3378 - accuracy: 0.8437 - val_loss: 0.3521 - val_accuracy: 0.8351\n",
            "Epoch 29/50\n",
            "6250/6250 [==============================] - 33s 5ms/step - loss: 0.3377 - accuracy: 0.8437 - val_loss: 0.3521 - val_accuracy: 0.8349\n",
            "Epoch 30/50\n",
            "6250/6250 [==============================] - 32s 5ms/step - loss: 0.3377 - accuracy: 0.8437 - val_loss: 0.3514 - val_accuracy: 0.8354\n",
            "Epoch 31/50\n",
            "6250/6250 [==============================] - 33s 5ms/step - loss: 0.3377 - accuracy: 0.8437 - val_loss: 0.3512 - val_accuracy: 0.8356\n",
            "Epoch 32/50\n",
            "6250/6250 [==============================] - 33s 5ms/step - loss: 0.3376 - accuracy: 0.8437 - val_loss: 0.3525 - val_accuracy: 0.8349\n",
            "Epoch 33/50\n",
            "6250/6250 [==============================] - 33s 5ms/step - loss: 0.3375 - accuracy: 0.8438 - val_loss: 0.3515 - val_accuracy: 0.8353\n",
            "Epoch 34/50\n",
            "6250/6250 [==============================] - 34s 5ms/step - loss: 0.3375 - accuracy: 0.8438 - val_loss: 0.3514 - val_accuracy: 0.8354\n",
            "Epoch 35/50\n",
            "6250/6250 [==============================] - 33s 5ms/step - loss: 0.3375 - accuracy: 0.8439 - val_loss: 0.3516 - val_accuracy: 0.8352\n",
            "Epoch 36/50\n",
            "6250/6250 [==============================] - 32s 5ms/step - loss: 0.3374 - accuracy: 0.8438 - val_loss: 0.3516 - val_accuracy: 0.8354\n",
            "Epoch 37/50\n",
            "6250/6250 [==============================] - 34s 5ms/step - loss: 0.3374 - accuracy: 0.8439 - val_loss: 0.3516 - val_accuracy: 0.8352\n",
            "Epoch 38/50\n",
            "6250/6250 [==============================] - 33s 5ms/step - loss: 0.3373 - accuracy: 0.8439 - val_loss: 0.3512 - val_accuracy: 0.8355\n",
            "Epoch 39/50\n",
            "6250/6250 [==============================] - 32s 5ms/step - loss: 0.3373 - accuracy: 0.8439 - val_loss: 0.3512 - val_accuracy: 0.8354\n",
            "Epoch 40/50\n",
            "6250/6250 [==============================] - 33s 5ms/step - loss: 0.3372 - accuracy: 0.8439 - val_loss: 0.3512 - val_accuracy: 0.8355\n",
            "Epoch 41/50\n",
            "6250/6250 [==============================] - 32s 5ms/step - loss: 0.3372 - accuracy: 0.8440 - val_loss: 0.3521 - val_accuracy: 0.8350\n",
            "Epoch 42/50\n",
            "6250/6250 [==============================] - 33s 5ms/step - loss: 0.3371 - accuracy: 0.8440 - val_loss: 0.3513 - val_accuracy: 0.8355\n",
            "Epoch 43/50\n",
            "6250/6250 [==============================] - 34s 5ms/step - loss: 0.3371 - accuracy: 0.8441 - val_loss: 0.3512 - val_accuracy: 0.8355\n",
            "Epoch 44/50\n",
            "6250/6250 [==============================] - 32s 5ms/step - loss: 0.3371 - accuracy: 0.8441 - val_loss: 0.3512 - val_accuracy: 0.8354\n",
            "Epoch 45/50\n",
            "6250/6250 [==============================] - 33s 5ms/step - loss: 0.3370 - accuracy: 0.8441 - val_loss: 0.3510 - val_accuracy: 0.8356\n",
            "Epoch 46/50\n",
            "6250/6250 [==============================] - 32s 5ms/step - loss: 0.3370 - accuracy: 0.8441 - val_loss: 0.3521 - val_accuracy: 0.8352\n",
            "Epoch 47/50\n",
            "6250/6250 [==============================] - 34s 5ms/step - loss: 0.3369 - accuracy: 0.8441 - val_loss: 0.3508 - val_accuracy: 0.8357\n",
            "Epoch 48/50\n",
            "6250/6250 [==============================] - 32s 5ms/step - loss: 0.3369 - accuracy: 0.8442 - val_loss: 0.3517 - val_accuracy: 0.8353\n",
            "Epoch 49/50\n",
            "6250/6250 [==============================] - 34s 5ms/step - loss: 0.3369 - accuracy: 0.8442 - val_loss: 0.3515 - val_accuracy: 0.8354\n",
            "Epoch 50/50\n",
            "6250/6250 [==============================] - 33s 5ms/step - loss: 0.3368 - accuracy: 0.8442 - val_loss: 0.3513 - val_accuracy: 0.8355\n"
          ]
        }
      ],
      "source": [
        "history = model.fit(quiz_matrix,\n",
        "          sol_matrix-1,\n",
        "          batch_size=128,\n",
        "          epochs=50,\n",
        "                    validation_split=0.2,\n",
        "          shuffle=True)"
      ]
    },
    {
      "cell_type": "code",
      "source": [
        ""
      ],
      "metadata": {
        "id": "_4hg7FWrBRGR"
      },
      "execution_count": null,
      "outputs": []
    }
  ],
  "metadata": {
    "colab": {
      "name": "sudoku_solver",
      "provenance": [],
      "mount_file_id": "1glE5RBBPsKHrqbO1ukma1TpMnTZkmMtC",
      "authorship_tag": "ABX9TyOCve4ZmxuZrKQBgbCDljQp"
    },
    "kernelspec": {
      "display_name": "Python 3",
      "name": "python3"
    },
    "language_info": {
      "name": "python"
    },
    "accelerator": "GPU"
  },
  "nbformat": 4,
  "nbformat_minor": 0
}
