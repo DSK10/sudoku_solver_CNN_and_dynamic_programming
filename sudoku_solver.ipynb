{
 "cells": [
  {
   "cell_type": "code",
   "execution_count": 1,
   "metadata": {},
   "outputs": [],
   "source": [
    "import pandas as pd\n",
    "import numpy as np"
   ]
  },
  {
   "cell_type": "code",
   "execution_count": 2,
   "metadata": {},
   "outputs": [
    {
     "data": {
      "text/html": [
       "<div>\n",
       "<style scoped>\n",
       "    .dataframe tbody tr th:only-of-type {\n",
       "        vertical-align: middle;\n",
       "    }\n",
       "\n",
       "    .dataframe tbody tr th {\n",
       "        vertical-align: top;\n",
       "    }\n",
       "\n",
       "    .dataframe thead th {\n",
       "        text-align: right;\n",
       "    }\n",
       "</style>\n",
       "<table border=\"1\" class=\"dataframe\">\n",
       "  <thead>\n",
       "    <tr style=\"text-align: right;\">\n",
       "      <th></th>\n",
       "      <th>quizzes</th>\n",
       "      <th>solutions</th>\n",
       "    </tr>\n",
       "  </thead>\n",
       "  <tbody>\n",
       "    <tr>\n",
       "      <th>0</th>\n",
       "      <td>0043002090050090010700600430060020871900074000...</td>\n",
       "      <td>8643712593258497619712658434361925871986574322...</td>\n",
       "    </tr>\n",
       "    <tr>\n",
       "      <th>1</th>\n",
       "      <td>0401000501070039605200080000000000170009068008...</td>\n",
       "      <td>3461792581875239645296483719658324174729168358...</td>\n",
       "    </tr>\n",
       "    <tr>\n",
       "      <th>2</th>\n",
       "      <td>6001203840084590720000060050002640300700800069...</td>\n",
       "      <td>6951273841384596727248369158512647392739815469...</td>\n",
       "    </tr>\n",
       "    <tr>\n",
       "      <th>3</th>\n",
       "      <td>4972000001004000050000160986203000403009000000...</td>\n",
       "      <td>4972583161864397252537164986293815473759641828...</td>\n",
       "    </tr>\n",
       "    <tr>\n",
       "      <th>4</th>\n",
       "      <td>0059103080094030600275001000300002010008200070...</td>\n",
       "      <td>4659123781894735623275681497386452919548216372...</td>\n",
       "    </tr>\n",
       "  </tbody>\n",
       "</table>\n",
       "</div>"
      ],
      "text/plain": [
       "                                             quizzes  \\\n",
       "0  0043002090050090010700600430060020871900074000...   \n",
       "1  0401000501070039605200080000000000170009068008...   \n",
       "2  6001203840084590720000060050002640300700800069...   \n",
       "3  4972000001004000050000160986203000403009000000...   \n",
       "4  0059103080094030600275001000300002010008200070...   \n",
       "\n",
       "                                           solutions  \n",
       "0  8643712593258497619712658434361925871986574322...  \n",
       "1  3461792581875239645296483719658324174729168358...  \n",
       "2  6951273841384596727248369158512647392739815469...  \n",
       "3  4972583161864397252537164986293815473759641828...  \n",
       "4  4659123781894735623275681497386452919548216372...  "
      ]
     },
     "execution_count": 2,
     "metadata": {},
     "output_type": "execute_result"
    }
   ],
   "source": [
    "df = pd.read_csv('sudoku.csv')\n",
    "df.head()"
   ]
  },
  {
   "cell_type": "code",
   "execution_count": 508,
   "metadata": {},
   "outputs": [],
   "source": [
    "def generate_matrix(string):\n",
    "    puzzle = np.array([list(x) for x in string],dtype='int').reshape(9,9)\n",
    "    return puzzle\n",
    "def gen_sol_matrix(string):\n",
    "    puzzle = np.array([list(x) for x in string],dtype='int').reshape(9,9)\n",
    "    return puzzle"
   ]
  },
  {
   "cell_type": "code",
   "execution_count": 474,
   "metadata": {},
   "outputs": [],
   "source": [
    "def get_row(arr,row_block,row):\n",
    "    return list(arr[row_block,:,row].reshape(9))\n",
    "\n",
    "def get_col(arr,col_block,col):\n",
    "    return list(arr[:,:,:,col][:,col_block].reshape(9))\n",
    "\n",
    "def get_block(arr,col,row):\n",
    "    return list(arr[col*3:(col*3)+3,row*3:(row*3)+3].reshape(9))\n",
    "    \n",
    "\n",
    "def get_diagnol(arr,index):\n",
    "    return flatten_matrix(arr).diagonal(index)\n",
    "    \n",
    "def get_diagnoals_2(arr,i,j):\n",
    "    if j-i > 0:\n",
    "        return arr.diagonal(j)\n",
    "    elif j-1 < 0:\n",
    "        return arr.diagonal(-i)\n",
    "    else:\n",
    "        return arr.diagonal(0)"
   ]
  },
  {
   "cell_type": "code",
   "execution_count": 475,
   "metadata": {},
   "outputs": [],
   "source": [
    "def remove_similar_elements(range_list, array_to_check):\n",
    "    for i in array_to_check:\n",
    "        if i in range_list:\n",
    "            range_list.remove(i)\n",
    "    return range_list\n",
    "\n",
    "def check_rules(fm,i,j):\n",
    "    range_list = [x for x in range(1,10)]\n",
    "    row_list = [x for x in fm[i] if x != 0]\n",
    "    col_list = [x for x in fm[:,j] if x != 0 ]\n",
    "    block_list = [x for x in get_block(fm,i//3,j//3) if x != 0]\n",
    "    removed_row = remove_similar_elements(range_list,row_list)\n",
    "    removed_col = remove_similar_elements(removed_row,col_list)\n",
    "    removed_block = remove_similar_elements(removed_col,block_list)   \n",
    "    return removed_block"
   ]
  },
  {
   "cell_type": "code",
   "execution_count": 490,
   "metadata": {},
   "outputs": [],
   "source": [
    "def solve_sudoku(fm):\n",
    "    for i in range(0,9):\n",
    "        for j in range(0,9):\n",
    "            if fm[i][j] == 0:\n",
    "                predicted_ans = check_rules(fm,i,j)\n",
    "                if len(predicted_ans) == 1:\n",
    "                    fm[i][j] = predicted_ans[0]\n",
    "    \n",
    "    if 0 not in fm:\n",
    "        return fm\n",
    "        \n",
    "    else:\n",
    "        return solve_sudoku(fm)"
   ]
  },
  {
   "cell_type": "code",
   "execution_count": 510,
   "metadata": {},
   "outputs": [
    {
     "name": "stdout",
     "output_type": "stream",
     "text": [
      "quiz sudoku : \n",
      " [[0 4 0 1 0 0 0 5 0]\n",
      " [1 0 7 0 0 3 9 6 0]\n",
      " [5 2 0 0 0 8 0 0 0]\n",
      " [0 0 0 0 0 0 0 1 7]\n",
      " [0 0 0 9 0 6 8 0 0]\n",
      " [8 0 3 0 5 0 6 2 0]\n",
      " [0 9 0 0 6 0 5 4 3]\n",
      " [6 0 0 0 8 0 7 0 0]\n",
      " [2 5 0 0 9 7 1 0 0]]\n",
      "solved sudoku : \n",
      " [[3 4 6 1 7 9 2 5 8]\n",
      " [1 8 7 5 2 3 9 6 4]\n",
      " [5 2 9 6 4 8 3 7 1]\n",
      " [9 6 5 8 3 2 4 1 7]\n",
      " [4 7 2 9 1 6 8 3 5]\n",
      " [8 1 3 7 5 4 6 2 9]\n",
      " [7 9 8 2 6 1 5 4 3]\n",
      " [6 3 1 4 8 5 7 9 2]\n",
      " [2 5 4 3 9 7 1 8 6]]\n",
      "solution sodoku : \n",
      " [[3 4 6 1 7 9 2 5 8]\n",
      " [1 8 7 5 2 3 9 6 4]\n",
      " [5 2 9 6 4 8 3 7 1]\n",
      " [9 6 5 8 3 2 4 1 7]\n",
      " [4 7 2 9 1 6 8 3 5]\n",
      " [8 1 3 7 5 4 6 2 9]\n",
      " [7 9 8 2 6 1 5 4 3]\n",
      " [6 3 1 4 8 5 7 9 2]\n",
      " [2 5 4 3 9 7 1 8 6]]\n",
      "CPU times: user 5.87 ms, sys: 1.14 ms, total: 7.01 ms\n",
      "Wall time: 5.95 ms\n"
     ]
    }
   ],
   "source": [
    "%%time\n",
    "# solve_sudoku(generate_matrix(df['quizzes'][0:1])[0])\n",
    "\n",
    "ind = 1\n",
    "print(\"quiz sudoku : \\n\",generate_matrix(df['quizzes'][ind]))\n",
    "print(\"solved sudoku : \\n\",solve_sudoku(generate_matrix(df['quizzes'][ind])))\n",
    "print(\"solution sodoku : \\n\",  gen_sol_matrix(df['solutions'][ind]))"
   ]
  },
  {
   "cell_type": "code",
   "execution_count": null,
   "metadata": {},
   "outputs": [],
   "source": []
  }
 ],
 "metadata": {
  "kernelspec": {
   "display_name": "Python 3",
   "language": "python",
   "name": "python3"
  },
  "language_info": {
   "codemirror_mode": {
    "name": "ipython",
    "version": 3
   },
   "file_extension": ".py",
   "mimetype": "text/x-python",
   "name": "python",
   "nbconvert_exporter": "python",
   "pygments_lexer": "ipython3",
   "version": "3.8.5"
  }
 },
 "nbformat": 4,
 "nbformat_minor": 4
}
